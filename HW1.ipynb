{
 "cells": [
  {
   "cell_type": "code",
   "execution_count": null,
   "metadata": {},
   "outputs": [],
   "source": [
    "def encrypt(key,plaintext):\n",
    "    ciphertext=\"\"\n",
    "    #YOUR CODE HERE\n",
    "    for i in range(len(plaintext)):\n",
    "        char = plaintext[i]\n",
    "        ciphertext += chr((ord(char) + key - 65) % 26 + 65)\n",
    "    return ciphertext\n",
    "\n",
    "def decrypt(key,ciphertext):\n",
    "    plaintext=\"\"\n",
    "    #YOUR CODE HERE\n",
    "    for i in range(len(ciphertext)):\n",
    "        char = ciphertext[i]\n",
    "        plaintext += chr((ord(char) + 65 - key) % 26 + 65)\n",
    "    return plaintext\n"
   ]
  }
 ],
 "metadata": {
  "language_info": {
   "name": "python"
  },
  "orig_nbformat": 4
 },
 "nbformat": 4,
 "nbformat_minor": 2
}
